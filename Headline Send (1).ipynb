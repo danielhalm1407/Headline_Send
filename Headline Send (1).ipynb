{
 "cells": [
  {
   "cell_type": "code",
   "execution_count": 1,
   "id": "61df2757",
   "metadata": {
    "scrolled": true
   },
   "outputs": [
    {
     "name": "stdout",
     "output_type": "stream",
     "text": [
      "Sterling heads for worst month since Truss’s ‘mini’-Budget\n"
     ]
    }
   ],
   "source": [
    "\n",
    "from selenium import webdriver \n",
    "from selenium.webdriver.common.by import By\n",
    "driver = webdriver.Chrome()\n",
    "driver.get(\"https://www.ft.com/content/15bbf59d-c0de-48d4-afd3-cebc9c254f46\")\n",
    "headline = driver.title\n",
    "\n",
    "import smtplib \n",
    "\n",
    "from selenium import webdriver \n",
    "\n",
    "# Create a webdriver instance\n",
    "driver = webdriver.Chrome()\n",
    "\n",
    "# Navigate to the Financial Times website\n",
    "driver.get(\"https://www.ft.com/\")\n",
    "\n",
    "# Find the headline article element using the CSS selector\n",
    "headline_element = driver.find_element(By.CSS_SELECTOR, \"span.text.text--color-black.text-display--scale-7.text--weight-500\")\n",
    "\n",
    "# Extract the URL from the headline element\n",
    "headline_text = headline_element.text\n",
    "\n",
    "# Print the headline text (optional)\n",
    "print(headline_text)\n",
    "\n",
    "\n",
    "\n"
   ]
  },
  {
   "cell_type": "code",
   "execution_count": 2,
   "id": "d02b2161",
   "metadata": {},
   "outputs": [
    {
     "data": {
      "text/plain": [
       "(221, b'2.0.0 Service closing transmission channel')"
      ]
     },
     "execution_count": 2,
     "metadata": {},
     "output_type": "execute_result"
    }
   ],
   "source": [
    "# Use the extracted text as the URL (or any other desired action)\n",
    "# For example, you can use this text in your email message\n",
    "from email.message import EmailMessage\n",
    "\n",
    "# Your email configuration\n",
    "fromaddr = 'danielhalm1407@outlook.com'\n",
    "toaddrs = 'danielhalm1407@outlook.com'\n",
    "username = 'danielhalm1407@outlook.com'\n",
    "password = '[password]'\n",
    "\n",
    "# Create an email message\n",
    "msg = EmailMessage()\n",
    "msg.set_content(headline_text)\n",
    "msg['Subject'] = \"Today's Headline\"\n",
    "msg['From'] = fromaddr\n",
    "msg['To'] = toaddrs\n",
    "\n",
    "# Connect to the SMTP server\n",
    "server = smtplib.SMTP('smtp.outlook.com', 587)\n",
    "server.starttls()\n",
    "\n",
    "# Login to your email account\n",
    "server.login(username, password)\n",
    "\n",
    "# Send the email\n",
    "server.send_message(msg)\n",
    "\n",
    "# Quit the server\n",
    "server.quit()"
   ]
  },
  {
   "cell_type": "code",
   "execution_count": null,
   "id": "7dc49d73",
   "metadata": {},
   "outputs": [],
   "source": []
  }
 ],
 "metadata": {
  "kernelspec": {
   "display_name": "Python 3 (ipykernel)",
   "language": "python",
   "name": "python3"
  },
  "language_info": {
   "codemirror_mode": {
    "name": "ipython",
    "version": 3
   },
   "file_extension": ".py",
   "mimetype": "text/x-python",
   "name": "python",
   "nbconvert_exporter": "python",
   "pygments_lexer": "ipython3",
   "version": "3.9.18"
  }
 },
 "nbformat": 4,
 "nbformat_minor": 5
}
